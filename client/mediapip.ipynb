{
 "cells": [
  {
   "cell_type": "markdown",
   "metadata": {},
   "source": [
    "# Function to close the connection"
   ]
  },
  {
   "cell_type": "code",
   "execution_count": 5,
   "metadata": {},
   "outputs": [],
   "source": [
    "import socket\n",
    "def close_socket_by_port(port):\n",
    "    try:\n",
    "        # Create a socket and connect to the localhost on the specified port\n",
    "        client_socket = socket.socket(socket.AF_INET, socket.SOCK_STREAM)\n",
    "        client_socket.connect(('localhost', port))\n",
    "\n",
    "        # Close the socket connection\n",
    "        client_socket.close()\n",
    "        print(f\"Socket connection on port {port} closed successfully.\")\n",
    "    except ConnectionRefusedError:\n",
    "        print(f\"No socket connection found on port {port}.\")\n",
    "\n",
    "# Example usage:"
   ]
  },
  {
   "cell_type": "markdown",
   "metadata": {},
   "source": [
    "# Client Code to send Tip finger coordinates to move the player"
   ]
  },
  {
   "cell_type": "code",
   "execution_count": 6,
   "metadata": {},
   "outputs": [
    {
     "name": "stdout",
     "output_type": "stream",
     "text": [
      "0,0.4568462669849396,0\n",
      "0,0.44639503955841064,0\n",
      "0,0.44590532779693604,0\n",
      "0,0.4451952278614044,0\n",
      "0,0.4442474842071533,0\n",
      "0,0.44358471035957336,0\n",
      "0,0.4399137794971466,0\n",
      "0,0.4399973452091217,0\n",
      "0,0.4306773245334625,0\n",
      "0,0.39608436822891235,0\n",
      "0,0.4013618528842926,0\n",
      "0,0.358804851770401,0\n",
      "0,0.31906643509864807,0\n",
      "0,0.29462894797325134,0\n",
      "0,0.2694052755832672,0\n",
      "0,0.26184651255607605,0\n",
      "0,0.2542293965816498,0\n",
      "0,0.2577325105667114,0\n",
      "0,0.2920568287372589,0\n",
      "0,0.30826306343078613,0\n",
      "0,0.3125073313713074,0\n",
      "0,0.34376847743988037,0\n",
      "0,0.38696804642677307,0\n",
      "0,0.39233940839767456,0\n",
      "0,0.42372047901153564,0\n",
      "0,0.4477728009223938,0\n",
      "0,0.4480575621128082,0\n",
      "0,0.42641153931617737,0\n",
      "0,0.4278011918067932,0\n",
      "0,0.3935515880584717,0\n",
      "0,0.36203551292419434,0\n",
      "0,0.36384695768356323,0\n",
      "0,0.3323727250099182,0\n",
      "0,0.307926744222641,0\n",
      "0,0.2874131500720978,0\n",
      "0,0.3147220015525818,0\n",
      "0,0.33513492345809937,0\n",
      "0,0.4723544120788574,0\n",
      "0,0.35763019323349,0\n",
      "0,0.3965938091278076,0\n",
      "0,0.43130582571029663,0\n",
      "0,0.4338145852088928,0\n",
      "0,0.4667849540710449,0\n",
      "0,0.47784358263015747,0\n",
      "0,0.4740830361843109,0\n",
      "0,0.45006904006004333,0\n",
      "0,0.4150868058204651,0\n",
      "0,0.5983941555023193,0\n",
      "Socket connection on port 25001 closed successfully.\n"
     ]
    }
   ],
   "source": [
    "import socket\n",
    "import cv2\n",
    "import mediapipe as mp\n",
    "\n",
    "host, port = \"127.0.0.1\", 25001\n",
    "\n",
    "# SOCK_STREAM means TCP socket\n",
    "sock = socket.socket(socket.AF_INET, socket.SOCK_STREAM)\n",
    "\n",
    "# Function to get hand landmarks using Mediapipe\n",
    "def get_hand_landmarks():\n",
    "    mp_drawing = mp.solutions.drawing_utils\n",
    "    mp_hands = mp.solutions.hands\n",
    "\n",
    "    cap = cv2.VideoCapture(0)\n",
    "\n",
    "    with mp_hands.Hands(min_detection_confidence=0.5, min_tracking_confidence=0.5) as hands:\n",
    "        while cap.isOpened():\n",
    "            ret, frame = cap.read()\n",
    "            if not ret:\n",
    "                continue\n",
    "\n",
    "            # Convert the BGR image to RGB\n",
    "            rgb_frame = cv2.cvtColor(frame, cv2.COLOR_BGR2RGB)\n",
    "\n",
    "            # Process the frame and get hand landmarks\n",
    "            results = hands.process(rgb_frame)\n",
    "\n",
    "            if results.multi_hand_landmarks:\n",
    "                for hand_landmarks in results.multi_hand_landmarks:\n",
    "                    # Extract the x, y, z coordinates of the fingertip (landmark[8])\n",
    "                    fingertip_coordinates = (0,\n",
    "                                             hand_landmarks.landmark[8].y,\n",
    "                                             0)\n",
    "\n",
    "                    # Send coordinates to the server\n",
    "                    send_data_to_server(fingertip_coordinates)\n",
    "\n",
    "                    # Draw hand landmarks on the frame\n",
    "                    mp_drawing.draw_landmarks(frame, hand_landmarks, mp_hands.HAND_CONNECTIONS)\n",
    "\n",
    "            cv2.imshow('Hand Tracking', frame)\n",
    "\n",
    "            key = cv2.waitKey(1)\n",
    "            if key & 0xFF == 27:  # Press 'Esc' to exit\n",
    "                break\n",
    "            elif key == ord('E') or key == ord('e'):  # Press 'E' to close the camera\n",
    "                break\n",
    "\n",
    "    cap.release()\n",
    "    cv2.destroyAllWindows()\n",
    "\n",
    "# Function to send coordinates to the server\n",
    "def send_data_to_server(coordinates):\n",
    "    try:\n",
    "        # Send data to the server\n",
    "        data = \",\".join(map(str, coordinates))\n",
    "        sock.sendall(data.encode(\"utf-8\"))\n",
    "\n",
    "        # Receive response from the server\n",
    "        response = sock.recv(1024).decode(\"utf-8\")\n",
    "        print(response)\n",
    "\n",
    "    except ConnectionResetError:\n",
    "        print(\"Server closed. Exiting...\")\n",
    "        cv2.destroyAllWindows()\n",
    "        exit()\n",
    "\n",
    "try:\n",
    "    # Connect to the server\n",
    "    sock.connect((host, port))\n",
    "\n",
    "    # Get hand landmarks and send fingertip coordinates to the server\n",
    "    get_hand_landmarks()\n",
    " \n",
    "finally:\n",
    "   close_socket_by_port(25001)\n"
   ]
  },
  {
   "cell_type": "markdown",
   "metadata": {},
   "source": [
    "# Hard Coded to check if the data send"
   ]
  },
  {
   "cell_type": "code",
   "execution_count": 2,
   "metadata": {},
   "outputs": [
    {
     "name": "stdout",
     "output_type": "stream",
     "text": [
      "0,2,0\n"
     ]
    }
   ],
   "source": [
    "import socket\n",
    "\n",
    "host, port = \"127.0.0.1\", 25001\n",
    "data = \"0,2,0\"\n",
    "\n",
    "# SOCK_STREAM means TCP socket\n",
    "sock = socket.socket(socket.AF_INET, socket.SOCK_STREAM)\n",
    "\n",
    "try:\n",
    "    # Connect to the server and send the data\n",
    "    sock.connect((host, port))\n",
    "\n",
    "    sock.sendall(data.encode(\"utf-8\"))\n",
    "    response = sock.recv(1024).decode(\"utf-8\")\n",
    "    print (response)\n",
    "\n",
    "finally:\n",
    "    sock.close()"
   ]
  }
 ],
 "metadata": {
  "kernelspec": {
   "display_name": "Python 3",
   "language": "python",
   "name": "python3"
  },
  "language_info": {
   "codemirror_mode": {
    "name": "ipython",
    "version": 3
   },
   "file_extension": ".py",
   "mimetype": "text/x-python",
   "name": "python",
   "nbconvert_exporter": "python",
   "pygments_lexer": "ipython3",
   "version": "3.11.7"
  }
 },
 "nbformat": 4,
 "nbformat_minor": 2
}
