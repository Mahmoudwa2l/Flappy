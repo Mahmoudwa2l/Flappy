{
 "cells": [
  {
   "cell_type": "code",
   "execution_count": null,
   "metadata": {},
   "outputs": [],
   "source": [
    "import socket\n",
    "data = \"0,0,0\"\n",
    "\n",
    "mySocket = socket.socket(socket.AF_INET, socket.SOCK_STREAM)  # Create a TCP socket\n",
    "mySocket.bind(('localhost', 25001))  # Bind to the address using a tuple\n",
    "mySocket.listen(5)\n",
    "print(\"Waiting for a connection...\")\n",
    "\n",
    "conn, addr = mySocket.accept()\n",
    "print(f\"Device connected: {addr}\")\n",
    "\n",
    "msg = bytes(data, 'utf-8')\n",
    "conn.send(msg)\n",
    "\n",
    "conn.close()  # Close the connection after sending the message\n",
    "mySocket.close()  # Close the listening socket\n"
   ]
  },
  {
   "cell_type": "code",
   "execution_count": 7,
   "metadata": {},
   "outputs": [
    {
     "name": "stdout",
     "output_type": "stream",
     "text": [
      "Waiting for a connection...\n"
     ]
    },
    {
     "ename": "OSError",
     "evalue": "[WinError 10022] An invalid argument was supplied",
     "output_type": "error",
     "traceback": [
      "\u001b[1;31m---------------------------------------------------------------------------\u001b[0m",
      "\u001b[1;31mOSError\u001b[0m                                   Traceback (most recent call last)",
      "Cell \u001b[1;32mIn[7], line 15\u001b[0m\n\u001b[0;32m     11\u001b[0m sock\u001b[38;5;241m.\u001b[39mconnect((host, port))\n\u001b[0;32m     13\u001b[0m \u001b[38;5;28mprint\u001b[39m(\u001b[38;5;124m\"\u001b[39m\u001b[38;5;124mWaiting for a connection...\u001b[39m\u001b[38;5;124m\"\u001b[39m)\n\u001b[1;32m---> 15\u001b[0m conn, addr \u001b[38;5;241m=\u001b[39m \u001b[43msock\u001b[49m\u001b[38;5;241;43m.\u001b[39;49m\u001b[43maccept\u001b[49m\u001b[43m(\u001b[49m\u001b[43m)\u001b[49m\n\u001b[0;32m     16\u001b[0m \u001b[38;5;28mprint\u001b[39m(\u001b[38;5;124mf\u001b[39m\u001b[38;5;124m\"\u001b[39m\u001b[38;5;124mDevice connected: \u001b[39m\u001b[38;5;132;01m{\u001b[39;00maddr\u001b[38;5;132;01m}\u001b[39;00m\u001b[38;5;124m\"\u001b[39m)\n\u001b[0;32m     18\u001b[0m sock\u001b[38;5;241m.\u001b[39msendall(data\u001b[38;5;241m.\u001b[39mencode(\u001b[38;5;124m\"\u001b[39m\u001b[38;5;124mutf-8\u001b[39m\u001b[38;5;124m\"\u001b[39m))\n",
      "File \u001b[1;32mC:\\Program Files\\WindowsApps\\PythonSoftwareFoundation.Python.3.11_3.11.2032.0_x64__qbz5n2kfra8p0\\Lib\\socket.py:294\u001b[0m, in \u001b[0;36msocket.accept\u001b[1;34m(self)\u001b[0m\n\u001b[0;32m    287\u001b[0m \u001b[38;5;28;01mdef\u001b[39;00m \u001b[38;5;21maccept\u001b[39m(\u001b[38;5;28mself\u001b[39m):\n\u001b[0;32m    288\u001b[0m \u001b[38;5;250m    \u001b[39m\u001b[38;5;124;03m\"\"\"accept() -> (socket object, address info)\u001b[39;00m\n\u001b[0;32m    289\u001b[0m \n\u001b[0;32m    290\u001b[0m \u001b[38;5;124;03m    Wait for an incoming connection.  Return a new socket\u001b[39;00m\n\u001b[0;32m    291\u001b[0m \u001b[38;5;124;03m    representing the connection, and the address of the client.\u001b[39;00m\n\u001b[0;32m    292\u001b[0m \u001b[38;5;124;03m    For IP sockets, the address info is a pair (hostaddr, port).\u001b[39;00m\n\u001b[0;32m    293\u001b[0m \u001b[38;5;124;03m    \"\"\"\u001b[39;00m\n\u001b[1;32m--> 294\u001b[0m     fd, addr \u001b[38;5;241m=\u001b[39m \u001b[38;5;28;43mself\u001b[39;49m\u001b[38;5;241;43m.\u001b[39;49m\u001b[43m_accept\u001b[49m\u001b[43m(\u001b[49m\u001b[43m)\u001b[49m\n\u001b[0;32m    295\u001b[0m     sock \u001b[38;5;241m=\u001b[39m socket(\u001b[38;5;28mself\u001b[39m\u001b[38;5;241m.\u001b[39mfamily, \u001b[38;5;28mself\u001b[39m\u001b[38;5;241m.\u001b[39mtype, \u001b[38;5;28mself\u001b[39m\u001b[38;5;241m.\u001b[39mproto, fileno\u001b[38;5;241m=\u001b[39mfd)\n\u001b[0;32m    296\u001b[0m     \u001b[38;5;66;03m# Issue #7995: if no default timeout is set and the listening\u001b[39;00m\n\u001b[0;32m    297\u001b[0m     \u001b[38;5;66;03m# socket had a (non-zero) timeout, force the new socket in blocking\u001b[39;00m\n\u001b[0;32m    298\u001b[0m     \u001b[38;5;66;03m# mode to override platform-specific socket flags inheritance.\u001b[39;00m\n",
      "\u001b[1;31mOSError\u001b[0m: [WinError 10022] An invalid argument was supplied"
     ]
    }
   ],
   "source": [
    "import socket\n",
    "\n",
    "host, port = \"127.0.0.1\", 25001\n",
    "data = \"0,1,0\"\n",
    "\n",
    "# SOCK_STREAM means TCP socket\n",
    "sock = socket.socket(socket.AF_INET, socket.SOCK_STREAM)\n",
    "\n",
    "try:\n",
    "    # Connect to the server and send the data\n",
    "    sock.connect((host, port))\n",
    "\n",
    "    print(f\"Device connected: {addr}\")\n",
    "\n",
    "    sock.sendall(data.encode(\"utf-8\"))\n",
    "    response = sock.recv(1024).decode(\"utf-8\")\n",
    "    print (response)\n",
    "\n",
    "finally:\n",
    "    sock.close()"
   ]
  },
  {
   "cell_type": "markdown",
   "metadata": {},
   "source": [
    "# import libraries"
   ]
  },
  {
   "cell_type": "code",
   "execution_count": 1,
   "metadata": {},
   "outputs": [],
   "source": [
    "import threading\n",
    "import cv2\n",
    "import mediapipe as mp\n",
    "import socket\n",
    "import json"
   ]
  },
  {
   "cell_type": "code",
   "execution_count": 1,
   "metadata": {},
   "outputs": [
    {
     "name": "stdout",
     "output_type": "stream",
     "text": [
      "Waiting for a connection...\n",
      "Device connected: ('127.0.0.1', 55981)\n"
     ]
    }
   ],
   "source": [
    "import socket\n",
    "\n",
    "mySocket = socket.socket(socket.AF_INET, socket.SOCK_STREAM)  # Create a TCP socket\n",
    "mySocket.bind(('localhost', 25001))  # Bind to the address using a tuple\n",
    "mySocket.listen(5)\n",
    "print(\"Waiting for a connection...\")\n",
    "\n",
    "conn, addr = mySocket.accept()\n",
    "print(f\"Device connected: {addr}\")\n",
    "\n",
    "#msg = bytes(data, 'utf-8')\n",
    "#conn.send(msg)\n",
    "\n",
    "conn.close()  # Close the connection after sending the message\n",
    "mySocket.close()  # Close the listening socket\n"
   ]
  },
  {
   "cell_type": "code",
   "execution_count": 3,
   "metadata": {},
   "outputs": [
    {
     "name": "stdout",
     "output_type": "stream",
     "text": [
      "Server is listening on port 25001...\n"
     ]
    }
   ],
   "source": [
    "# Define a flag to control when to run the extraction function\n",
    "run_extraction = False\n",
    "\n",
    "# Function to extract wrist coordinates using MediaPipe\n",
    "def extract_wrist_coordinates(client_socket):\n",
    "    mp_drawing = mp.solutions.drawing_utils\n",
    "    mp_hands = mp.solutions.hands\n",
    "\n",
    "    cap = cv2.VideoCapture(0)\n",
    "    hands = mp_hands.Hands()\n",
    "\n",
    "    while run_extraction:\n",
    "        try:\n",
    "            ret, frame = cap.read()\n",
    "            if not ret:\n",
    "                break\n",
    "\n",
    "            frame = cv2.flip(frame, 1)\n",
    "            rgb_frame = cv2.cvtColor(frame, cv2.COLOR_BGR2RGB)\n",
    "            results = hands.process(rgb_frame)\n",
    "\n",
    "            if results.multi_hand_landmarks:\n",
    "                for landmarks in results.multi_hand_landmarks:\n",
    "                    wrist_landmark = landmarks.landmark[mp_hands.HandLandmark.WRIST]\n",
    "                    wrist_coords = {'x': wrist_landmark.x, 'y': wrist_landmark.y, 'z': wrist_landmark.z}\n",
    "                    print(wrist_coords)\n",
    "                    json_coords = json.dumps(wrist_coords)\n",
    "                    client_socket.send((json_coords+ '\\n').encode())\n",
    "\n",
    "            cv2.imshow('MediaPipe Hands', frame)\n",
    "            if cv2.waitKey(1) == 27:\n",
    "                break\n",
    "        except Exception as e:\n",
    "            print(\"Error:\", e)\n",
    "            break\n",
    "\n",
    "    # Release the camera and close OpenCV windows when done\n",
    "    cap.release()\n",
    "    cv2.destroyAllWindows()\n",
    "\n",
    "# Function to start the server socket\n",
    "def server_socket():\n",
    "    server = socket.socket(socket.AF_INET, socket.SOCK_STREAM)\n",
    "    server.bind((\"127.0.0.1\", 25001))\n",
    "    server.listen(1)\n",
    "    print(\"Server is listening on port 25001...\")\n",
    "\n",
    "    while True:\n",
    "        client_socket, addr = server.accept()\n",
    "        print(f\"Connection from {addr[0]}:{addr[1]}\")\n",
    "        \n",
    "        global run_extraction  # Use the global flag\n",
    "        \n",
    "        # Set the flag to True when the connection is open\n",
    "        run_extraction = True\n",
    "\n",
    "        # Start the hand thread after the client connects\n",
    "        hand_thread = threading.Thread(target=extract_wrist_coordinates, args=(client_socket,))\n",
    "        hand_thread.start()\n",
    "\n",
    "        # Wait for the hand_thread to finish (connection terminated)\n",
    "        hand_thread.join()\n",
    "\n",
    "        # Reset the flag to False when the connection is terminated\n",
    "        run_extraction = False\n",
    "\n",
    "# Create and start the socket thread\n",
    "socket_thread = threading.Thread(target=server_socket)\n",
    "socket_thread.start()\n",
    "\n",
    "socket_thread.join()\n"
   ]
  },
  {
   "cell_type": "code",
   "execution_count": 2,
   "metadata": {},
   "outputs": [
    {
     "name": "stdout",
     "output_type": "stream",
     "text": [
      "No socket connection found on port 25001.\n"
     ]
    }
   ],
   "source": [
    "import socket\n",
    "\n",
    "def close_socket_by_port(port):\n",
    "    try:\n",
    "        # Create a socket and connect to the localhost on the specified port\n",
    "        client_socket = socket.socket(socket.AF_INET, socket.SOCK_STREAM)\n",
    "        client_socket.connect(('localhost', port))\n",
    "\n",
    "        # Close the socket connection\n",
    "        client_socket.close()\n",
    "        print(f\"Socket connection on port {port} closed successfully.\")\n",
    "    except ConnectionRefusedError:\n",
    "        print(f\"No socket connection found on port {port}.\")\n",
    "\n",
    "# Example usage:\n",
    "# Close a socket connection on port 12345\n",
    "close_socket_by_port(25001)"
   ]
  }
 ],
 "metadata": {
  "kernelspec": {
   "display_name": "Python 3",
   "language": "python",
   "name": "python3"
  },
  "language_info": {
   "codemirror_mode": {
    "name": "ipython",
    "version": 3
   },
   "file_extension": ".py",
   "mimetype": "text/x-python",
   "name": "python",
   "nbconvert_exporter": "python",
   "pygments_lexer": "ipython3",
   "version": "3.11.7"
  }
 },
 "nbformat": 4,
 "nbformat_minor": 2
}
